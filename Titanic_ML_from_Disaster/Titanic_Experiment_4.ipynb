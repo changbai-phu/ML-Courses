{
 "cells": [
  {
   "cell_type": "markdown",
   "metadata": {},
   "source": [
    "### Bayesian Optimization vs Random Search\n",
    "- Conclude: Based on Accuracy, the original code with random search has better performance than Bayesian Optimization. "
   ]
  },
  {
   "cell_type": "code",
   "execution_count": null,
   "metadata": {
    "vscode": {
     "languageId": "plaintext"
    }
   },
   "outputs": [],
   "source": [
    "# Keep TFDFWrapper the same used in GridSearch\n",
    "\n",
    "class TFDFWrapper(BaseEstimator, ClassifierMixin):\n",
    "    def __init__(self, min_examples=2, categorical_algorithm=\"CART\", max_depth=6, shrinkage=0.1):\n",
    "        self.min_examples = min_examples\n",
    "        self.categorical_algorithm = categorical_algorithm\n",
    "        self.max_depth = max_depth\n",
    "        self.shrinkage = shrinkage\n",
    "        self.model = None\n",
    "\n",
    "    def fit(self, X, y):\n",
    "        train_df = X.copy()\n",
    "        train_df['Survived'] = y\n",
    "        \n",
    "        train_ds = tfdf.keras.pd_dataframe_to_tf_dataset(train_df, label=\"Survived\").map(tokenize_names)\n",
    "        \n",
    "        self.model = tfdf.keras.GradientBoostedTreesModel(\n",
    "            min_examples=self.min_examples,\n",
    "            categorical_algorithm=self.categorical_algorithm,\n",
    "            max_depth=self.max_depth,\n",
    "            shrinkage=self.shrinkage\n",
    "        )\n",
    "        self.model.fit(train_ds, verbose=0)\n",
    "        return self\n",
    "\n",
    "    def predict(self, X):\n",
    "        ds = tfdf.keras.pd_dataframe_to_tf_dataset(X).map(tokenize_names)\n",
    "        predictions = self.model.predict(ds)\n",
    "        return predictions.round().flatten()  # Ensure it's flattened for compatibility\n",
    "\n",
    "    def score(self, X, y):\n",
    "        y_pred = self.predict(X)\n",
    "        return accuracy_score(y, y_pred)\n",
    "\n",
    "# Split the dataset\n",
    "train_df, valid_df = train_test_split(preprocessed_train_df, test_size=0.2, random_state=42)\n",
    "\n",
    "X_train = train_df[input_features]\n",
    "y_train = train_df['Survived']"
   ]
  },
  {
   "cell_type": "code",
   "execution_count": null,
   "metadata": {
    "vscode": {
     "languageId": "plaintext"
    }
   },
   "outputs": [],
   "source": [
    "import numpy as np\n",
    "import pandas as pd\n",
    "from sklearn.base import BaseEstimator, ClassifierMixin\n",
    "from sklearn.model_selection import train_test_split\n",
    "from sklearn.metrics import accuracy_score\n",
    "from skopt import BayesSearchCV\n",
    "import tensorflow as tf\n",
    "import tensorflow_decision_forests as tfdf\n",
    "\n",
    "# Define the search space for Bayesian Optimization\n",
    "param_space = {\n",
    "    'min_examples': (2, 10),  # Integer range\n",
    "    'categorical_algorithm': [\"CART\", \"RANDOM\"],\n",
    "    'max_depth': (3, 8),      # Integer range\n",
    "    'shrinkage': (0.02, 0.15) # Float range\n",
    "}\n",
    "\n",
    "# Initialize Bayesian Search\n",
    "bayes_search = BayesSearchCV(\n",
    "    estimator=TFDFWrapper(),\n",
    "    search_spaces=param_space,\n",
    "    n_iter=20,               # Number of iterations (trials)\n",
    "    cv=3,                    # 3-fold cross-validation\n",
    "    scoring='accuracy',\n",
    "    n_jobs=1,  # Disable parallel processing           \n",
    "    verbose=1,\n",
    "    random_state=42\n",
    ")\n",
    "\n",
    "# Fit the model using Bayesian Optimization\n",
    "bayes_search.fit(X_train, y_train)\n",
    "\n",
    "# Best parameters and score\n",
    "print(f\"Best parameters: {bayes_search.best_params_}\")\n",
    "print(f\"Best accuracy: {bayes_search.best_score_}\")"
   ]
  },
  {
   "cell_type": "code",
   "execution_count": null,
   "metadata": {
    "vscode": {
     "languageId": "plaintext"
    }
   },
   "outputs": [],
   "source": [
    "Best parameters: OrderedDict([('categorical_algorithm', 'RANDOM'), ('max_depth', 8), ('min_examples', 10), ('shrinkage', 0.021727829765960688)])\n",
    "Best accuracy: 0.8244512995071446"
   ]
  },
  {
   "cell_type": "code",
   "execution_count": null,
   "metadata": {
    "vscode": {
     "languageId": "plaintext"
    }
   },
   "outputs": [],
   "source": [
    "best_model = bayes_search.best_estimator_\n",
    "\n",
    "y_true = valid_df['Survived'].values\n",
    "y_pred = best_model.predict(valid_df[input_features])\n",
    "y_pred = y_pred.round()\n",
    "y_prob = best_model.predict(valid_df[input_features]).flatten()"
   ]
  }
 ],
 "metadata": {
  "language_info": {
   "name": "python"
  }
 },
 "nbformat": 4,
 "nbformat_minor": 2
}
