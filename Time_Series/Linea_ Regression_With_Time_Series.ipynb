{
 "cells": [
  {
   "cell_type": "code",
   "execution_count": null,
   "metadata": {
    "vscode": {
     "languageId": "plaintext"
    }
   },
   "outputs": [],
   "source": [
    "import pandas as pd\n",
    "\n",
    "df = pd.read_csv(\n",
    "    \"../input/ts-course-data/book_sales.csv\",\n",
    "    index_col='Date',\n",
    "    parse_dates=['Date'],\n",
    ").drop('Paperback', axis=1)\n",
    "\n",
    "df.head()"
   ]
  },
  {
   "cell_type": "markdown",
   "metadata": {},
   "source": [
    "- Regression algorithm (also called ordinary least squares): learn values for weights （also called regression coefficients) and bias (also called intercept) during the training.\n",
    "- Two unique features to time series:\n",
    "    - Time step features: features derive directly from time index, e.g., time dummy （counts off time steps in the series from beginning to end.）\n",
    "        - make model time dependent\n",
    "    - lag features: we shift the observations of the target series so that they appear to have occured later in time.\n",
    "        - make model serial dependent (make prediction from pervious observations)."
   ]
  },
  {
   "cell_type": "code",
   "execution_count": null,
   "metadata": {
    "vscode": {
     "languageId": "plaintext"
    }
   },
   "outputs": [],
   "source": [
    "import numpy as np\n",
    "\n",
    "df['Time'] = np.arange(len(df.index))\n",
    "\n",
    "df.head()\n",
    "\n",
    "import matplotlib.pyplot as plt\n",
    "import seaborn as sns\n",
    "plt.style.use(\"seaborn-whitegrid\")\n",
    "plt.rc(\n",
    "    \"figure\",\n",
    "    autolayout=True,\n",
    "    figsize=(11, 4),\n",
    "    titlesize=18,\n",
    "    titleweight='bold',\n",
    ")\n",
    "plt.rc(\n",
    "    \"axes\",\n",
    "    labelweight=\"bold\",\n",
    "    labelsize=\"large\",\n",
    "    titleweight=\"bold\",\n",
    "    titlesize=16,\n",
    "    titlepad=10,\n",
    ")\n",
    "%config InlineBackend.figure_format = 'retina'\n",
    "\n",
    "fig, ax = plt.subplots()\n",
    "ax.plot('Time', 'Hardcover', data=df, color='0.75')\n",
    "ax = sns.regplot(x='Time', y='Hardcover', data=df, ci=None, scatter_kws=dict(color='0.25'))\n",
    "ax.set_title('Time Plot of Hardcover Sales');"
   ]
  },
  {
   "cell_type": "code",
   "execution_count": null,
   "metadata": {
    "vscode": {
     "languageId": "plaintext"
    }
   },
   "outputs": [],
   "source": [
    "df['Lag_1'] = df['Hardcover'].shift(1)\n",
    "df = df.reindex(columns=['Hardcover', 'Lag_1'])\n",
    "\n",
    "df.head()\n",
    "\n",
    "fig, ax = plt.subplots()\n",
    "ax = sns.regplot(x='Lag_1', y='Hardcover', data=df, ci=None, scatter_kws=dict(color='0.25'))\n",
    "ax.set_aspect('equal')\n",
    "ax.set_title('Lag Plot of Hardcover Sales');"
   ]
  },
  {
   "cell_type": "markdown",
   "metadata": {},
   "source": [
    "#### Example - Tunnel Traffic"
   ]
  },
  {
   "cell_type": "code",
   "execution_count": null,
   "metadata": {
    "vscode": {
     "languageId": "plaintext"
    }
   },
   "outputs": [],
   "source": [
    "from pathlib import Path\n",
    "from warnings import simplefilter\n",
    "\n",
    "import matplotlib.pyplot as plt\n",
    "import numpy as np\n",
    "import pandas as pd\n",
    "\n",
    "simplefilter(\"ignore\")  # ignore warnings to clean up output cells\n",
    "\n",
    "# Set Matplotlib defaults\n",
    "plt.style.use(\"seaborn-whitegrid\")\n",
    "plt.rc(\"figure\", autolayout=True, figsize=(11, 4))\n",
    "plt.rc(\n",
    "    \"axes\",\n",
    "    labelweight=\"bold\",\n",
    "    labelsize=\"large\",\n",
    "    titleweight=\"bold\",\n",
    "    titlesize=14,\n",
    "    titlepad=10,\n",
    ")\n",
    "plot_params = dict(\n",
    "    color=\"0.75\",\n",
    "    style=\".-\",\n",
    "    markeredgecolor=\"0.25\",\n",
    "    markerfacecolor=\"0.25\",\n",
    "    legend=False,\n",
    ")\n",
    "%config InlineBackend.figure_format = 'retina'\n",
    "\n",
    "\n",
    "# Load Tunnel Traffic dataset\n",
    "data_dir = Path(\"../input/ts-course-data\")\n",
    "tunnel = pd.read_csv(data_dir / \"tunnel.csv\", parse_dates=[\"Day\"])\n",
    "\n",
    "# Create a time series in Pandas by setting the index to a date\n",
    "# column. We parsed \"Day\" as a date type by using `parse_dates` when\n",
    "# loading the data.\n",
    "tunnel = tunnel.set_index(\"Day\")\n",
    "\n",
    "# By default, Pandas creates a `DatetimeIndex` with dtype `Timestamp`\n",
    "# (equivalent to `np.datetime64`, representing a time series as a\n",
    "# sequence of measurements taken at single moments. A `PeriodIndex`,\n",
    "# on the other hand, represents a time series as a sequence of\n",
    "# quantities accumulated over periods of time. Periods are often\n",
    "# easier to work with, so that's what we'll use in this course.\n",
    "tunnel = tunnel.to_period()\n",
    "\n",
    "tunnel.head()"
   ]
  },
  {
   "cell_type": "code",
   "execution_count": null,
   "metadata": {
    "vscode": {
     "languageId": "plaintext"
    }
   },
   "outputs": [],
   "source": [
    "df = tunnel.copy()\n",
    "\n",
    "df['Time'] = np.arange(len(tunnel.index))\n",
    "\n",
    "df.head()"
   ]
  },
  {
   "cell_type": "code",
   "execution_count": null,
   "metadata": {
    "vscode": {
     "languageId": "plaintext"
    }
   },
   "outputs": [],
   "source": [
    "from sklearn.linear_model import LinearRegression\n",
    "\n",
    "# Training data\n",
    "X = df.loc[:, ['Time']]  # features\n",
    "y = df.loc[:, 'NumVehicles']  # target\n",
    "\n",
    "# Train the model\n",
    "model = LinearRegression()\n",
    "model.fit(X, y)\n",
    "\n",
    "# Store the fitted values as a time series with the same time index as\n",
    "# the training data\n",
    "y_pred = pd.Series(model.predict(X), index=X.index)"
   ]
  },
  {
   "cell_type": "code",
   "execution_count": null,
   "metadata": {
    "vscode": {
     "languageId": "plaintext"
    }
   },
   "outputs": [],
   "source": [
    "ax = y.plot(**plot_params)\n",
    "ax = y_pred.plot(ax=ax, linewidth=3)\n",
    "ax.set_title('Time Plot of Tunnel Traffic');"
   ]
  },
  {
   "cell_type": "code",
   "execution_count": null,
   "metadata": {
    "vscode": {
     "languageId": "plaintext"
    }
   },
   "outputs": [],
   "source": [
    "df['Lag_1'] = df['NumVehicles'].shift(1)\n",
    "df.head()"
   ]
  },
  {
   "cell_type": "code",
   "execution_count": null,
   "metadata": {
    "vscode": {
     "languageId": "plaintext"
    }
   },
   "outputs": [],
   "source": [
    "from sklearn.linear_model import LinearRegression\n",
    "\n",
    "X = df.loc[:, ['Lag_1']]\n",
    "X.dropna(inplace=True)  # drop missing values in the feature set\n",
    "y = df.loc[:, 'NumVehicles']  # create the target\n",
    "y, X = y.align(X, join='inner')  # drop corresponding values in target\n",
    "\n",
    "model = LinearRegression()\n",
    "model.fit(X, y)\n",
    "\n",
    "y_pred = pd.Series(model.predict(X), index=X.index)"
   ]
  },
  {
   "cell_type": "code",
   "execution_count": null,
   "metadata": {
    "vscode": {
     "languageId": "plaintext"
    }
   },
   "outputs": [],
   "source": [
    "fig, ax = plt.subplots()\n",
    "ax.plot(X['Lag_1'], y, '.', color='0.25')\n",
    "ax.plot(X['Lag_1'], y_pred)\n",
    "ax.set_aspect('equal')\n",
    "ax.set_ylabel('NumVehicles')\n",
    "ax.set_xlabel('Lag_1')\n",
    "ax.set_title('Lag Plot of Tunnel Traffic');"
   ]
  },
  {
   "cell_type": "code",
   "execution_count": null,
   "metadata": {
    "vscode": {
     "languageId": "plaintext"
    }
   },
   "outputs": [],
   "source": [
    "ax = y.plot(**plot_params)\n",
    "ax = y_pred.plot()"
   ]
  },
  {
   "cell_type": "markdown",
   "metadata": {},
   "source": [
    "#### Exercise"
   ]
  }
 ],
 "metadata": {
  "language_info": {
   "name": "python"
  }
 },
 "nbformat": 4,
 "nbformat_minor": 2
}
